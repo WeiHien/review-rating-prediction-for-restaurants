{
 "cells": [
  {
   "cell_type": "markdown",
   "metadata": {},
   "source": [
    "## 1. Load Data"
   ]
  },
  {
   "cell_type": "markdown",
   "metadata": {
    "id": "7rTUxuVXhT5L"
   },
   "source": [
    "Load all reviews"
   ]
  },
  {
   "cell_type": "code",
   "execution_count": 1,
   "metadata": {
    "id": "os_1xGbShdtC"
   },
   "outputs": [
    {
     "data": {
      "text/html": [
       "<div>\n",
       "<style scoped>\n",
       "    .dataframe tbody tr th:only-of-type {\n",
       "        vertical-align: middle;\n",
       "    }\n",
       "\n",
       "    .dataframe tbody tr th {\n",
       "        vertical-align: top;\n",
       "    }\n",
       "\n",
       "    .dataframe thead th {\n",
       "        text-align: right;\n",
       "    }\n",
       "</style>\n",
       "<table border=\"1\" class=\"dataframe\">\n",
       "  <thead>\n",
       "    <tr style=\"text-align: right;\">\n",
       "      <th></th>\n",
       "      <th>business_id</th>\n",
       "      <th>stars</th>\n",
       "      <th>text</th>\n",
       "    </tr>\n",
       "  </thead>\n",
       "  <tbody>\n",
       "    <tr>\n",
       "      <th>0</th>\n",
       "      <td>ujmEBvifdJM6h6RLv4wQIg</td>\n",
       "      <td>1.0</td>\n",
       "      <td>Total bill for this horrible service? Over $8G...</td>\n",
       "    </tr>\n",
       "    <tr>\n",
       "      <th>1</th>\n",
       "      <td>NZnhc2sEQy3RmzKTZnqtwQ</td>\n",
       "      <td>5.0</td>\n",
       "      <td>I *adore* Travis at the Hard Rock's new Kelly ...</td>\n",
       "    </tr>\n",
       "    <tr>\n",
       "      <th>2</th>\n",
       "      <td>WTqjgwHlXbSFevF32_DJVw</td>\n",
       "      <td>5.0</td>\n",
       "      <td>I have to say that this office really has it t...</td>\n",
       "    </tr>\n",
       "    <tr>\n",
       "      <th>3</th>\n",
       "      <td>ikCg8xy5JIg_NGPx-MSIDA</td>\n",
       "      <td>5.0</td>\n",
       "      <td>Went in for a lunch. Steak sandwich was delici...</td>\n",
       "    </tr>\n",
       "    <tr>\n",
       "      <th>4</th>\n",
       "      <td>b1b1eb3uo-w561D0ZfCEiQ</td>\n",
       "      <td>1.0</td>\n",
       "      <td>Today was my second out of three sessions I ha...</td>\n",
       "    </tr>\n",
       "    <tr>\n",
       "      <th>...</th>\n",
       "      <td>...</td>\n",
       "      <td>...</td>\n",
       "      <td>...</td>\n",
       "    </tr>\n",
       "    <tr>\n",
       "      <th>6685897</th>\n",
       "      <td>RXBFk3tVBxiTf3uOt9KExQ</td>\n",
       "      <td>5.0</td>\n",
       "      <td>I have been coming here for years and this pla...</td>\n",
       "    </tr>\n",
       "    <tr>\n",
       "      <th>6685898</th>\n",
       "      <td>yA6dKNm_zl1ucZCnwW8ZCg</td>\n",
       "      <td>1.0</td>\n",
       "      <td>I think this owner and the owner of Amy's Baki...</td>\n",
       "    </tr>\n",
       "    <tr>\n",
       "      <th>6685899</th>\n",
       "      <td>a192hdM0_UVCYLwPJv1Qwg</td>\n",
       "      <td>5.0</td>\n",
       "      <td>Off the grid Mexican in Vegas. Very tasty, qua...</td>\n",
       "    </tr>\n",
       "    <tr>\n",
       "      <th>6685900</th>\n",
       "      <td>kOo4ZY2UQAX4j312mzQ8mA</td>\n",
       "      <td>5.0</td>\n",
       "      <td>We hired Taco Naco to cater our family party a...</td>\n",
       "    </tr>\n",
       "    <tr>\n",
       "      <th>6685901</th>\n",
       "      <td>PkqN5st3zZ_Xce_5QlBtNQ</td>\n",
       "      <td>3.0</td>\n",
       "      <td>Having just come back from Hawaii a few months...</td>\n",
       "    </tr>\n",
       "  </tbody>\n",
       "</table>\n",
       "<p>6685902 rows × 3 columns</p>\n",
       "</div>"
      ],
      "text/plain": [
       "                    business_id  stars  \\\n",
       "0        ujmEBvifdJM6h6RLv4wQIg    1.0   \n",
       "1        NZnhc2sEQy3RmzKTZnqtwQ    5.0   \n",
       "2        WTqjgwHlXbSFevF32_DJVw    5.0   \n",
       "3        ikCg8xy5JIg_NGPx-MSIDA    5.0   \n",
       "4        b1b1eb3uo-w561D0ZfCEiQ    1.0   \n",
       "...                         ...    ...   \n",
       "6685897  RXBFk3tVBxiTf3uOt9KExQ    5.0   \n",
       "6685898  yA6dKNm_zl1ucZCnwW8ZCg    1.0   \n",
       "6685899  a192hdM0_UVCYLwPJv1Qwg    5.0   \n",
       "6685900  kOo4ZY2UQAX4j312mzQ8mA    5.0   \n",
       "6685901  PkqN5st3zZ_Xce_5QlBtNQ    3.0   \n",
       "\n",
       "                                                      text  \n",
       "0        Total bill for this horrible service? Over $8G...  \n",
       "1        I *adore* Travis at the Hard Rock's new Kelly ...  \n",
       "2        I have to say that this office really has it t...  \n",
       "3        Went in for a lunch. Steak sandwich was delici...  \n",
       "4        Today was my second out of three sessions I ha...  \n",
       "...                                                    ...  \n",
       "6685897  I have been coming here for years and this pla...  \n",
       "6685898  I think this owner and the owner of Amy's Baki...  \n",
       "6685899  Off the grid Mexican in Vegas. Very tasty, qua...  \n",
       "6685900  We hired Taco Naco to cater our family party a...  \n",
       "6685901  Having just come back from Hawaii a few months...  \n",
       "\n",
       "[6685902 rows x 3 columns]"
      ]
     },
     "execution_count": 1,
     "metadata": {},
     "output_type": "execute_result"
    }
   ],
   "source": [
    "import pandas as pd\n",
    "\n",
    "reviews = pd.read_csv(\"~/Downloads/yelp-2019-dataset/review-005.csv\", usecols=['business_id', 'text', 'stars'])\n",
    "reviews"
   ]
  },
  {
   "cell_type": "markdown",
   "metadata": {},
   "source": [
    "Load all businesses"
   ]
  },
  {
   "cell_type": "code",
   "execution_count": 2,
   "metadata": {},
   "outputs": [
    {
     "data": {
      "text/html": [
       "<div>\n",
       "<style scoped>\n",
       "    .dataframe tbody tr th:only-of-type {\n",
       "        vertical-align: middle;\n",
       "    }\n",
       "\n",
       "    .dataframe tbody tr th {\n",
       "        vertical-align: top;\n",
       "    }\n",
       "\n",
       "    .dataframe thead th {\n",
       "        text-align: right;\n",
       "    }\n",
       "</style>\n",
       "<table border=\"1\" class=\"dataframe\">\n",
       "  <thead>\n",
       "    <tr style=\"text-align: right;\">\n",
       "      <th></th>\n",
       "      <th>business_id</th>\n",
       "      <th>categories</th>\n",
       "    </tr>\n",
       "  </thead>\n",
       "  <tbody>\n",
       "    <tr>\n",
       "      <th>0</th>\n",
       "      <td>1SWheh84yJXfytovILXOAQ</td>\n",
       "      <td>Golf, Active Life</td>\n",
       "    </tr>\n",
       "    <tr>\n",
       "      <th>1</th>\n",
       "      <td>QXAEGFB4oINsVuTFxEYKFQ</td>\n",
       "      <td>Specialty Food, Restaurants, Dim Sum, Imported...</td>\n",
       "    </tr>\n",
       "    <tr>\n",
       "      <th>2</th>\n",
       "      <td>gnKjwL_1w79qoiV3IC_xQQ</td>\n",
       "      <td>Sushi Bars, Restaurants, Japanese</td>\n",
       "    </tr>\n",
       "    <tr>\n",
       "      <th>3</th>\n",
       "      <td>xvX2CttrVhyG2z1dFg_0xw</td>\n",
       "      <td>Insurance, Financial Services</td>\n",
       "    </tr>\n",
       "    <tr>\n",
       "      <th>4</th>\n",
       "      <td>HhyxOkGAM07SRYtlQ4wMFQ</td>\n",
       "      <td>Plumbing, Shopping, Local Services, Home Servi...</td>\n",
       "    </tr>\n",
       "    <tr>\n",
       "      <th>...</th>\n",
       "      <td>...</td>\n",
       "      <td>...</td>\n",
       "    </tr>\n",
       "    <tr>\n",
       "      <th>192604</th>\n",
       "      <td>nqb4kWcOwp8bFxzfvaDpZQ</td>\n",
       "      <td>Water Purification Services, Water Heater Inst...</td>\n",
       "    </tr>\n",
       "    <tr>\n",
       "      <th>192605</th>\n",
       "      <td>vY2nLU5K20Pee-FdG0br1g</td>\n",
       "      <td>Books, Mags, Music &amp; Video, Shopping</td>\n",
       "    </tr>\n",
       "    <tr>\n",
       "      <th>192606</th>\n",
       "      <td>MiEyUDKTjeci5TMfxVZPpg</td>\n",
       "      <td>Home Services, Contractors, Landscaping, Mason...</td>\n",
       "    </tr>\n",
       "    <tr>\n",
       "      <th>192607</th>\n",
       "      <td>zNMupayB2jEHVDOji8sxoQ</td>\n",
       "      <td>Beauty &amp; Spas, Barbers</td>\n",
       "    </tr>\n",
       "    <tr>\n",
       "      <th>192608</th>\n",
       "      <td>c1f_VAX1KIK8-JoVhjbYOw</td>\n",
       "      <td>Massage, Beauty &amp; Spas</td>\n",
       "    </tr>\n",
       "  </tbody>\n",
       "</table>\n",
       "<p>192609 rows × 2 columns</p>\n",
       "</div>"
      ],
      "text/plain": [
       "                   business_id  \\\n",
       "0       1SWheh84yJXfytovILXOAQ   \n",
       "1       QXAEGFB4oINsVuTFxEYKFQ   \n",
       "2       gnKjwL_1w79qoiV3IC_xQQ   \n",
       "3       xvX2CttrVhyG2z1dFg_0xw   \n",
       "4       HhyxOkGAM07SRYtlQ4wMFQ   \n",
       "...                        ...   \n",
       "192604  nqb4kWcOwp8bFxzfvaDpZQ   \n",
       "192605  vY2nLU5K20Pee-FdG0br1g   \n",
       "192606  MiEyUDKTjeci5TMfxVZPpg   \n",
       "192607  zNMupayB2jEHVDOji8sxoQ   \n",
       "192608  c1f_VAX1KIK8-JoVhjbYOw   \n",
       "\n",
       "                                               categories  \n",
       "0                                       Golf, Active Life  \n",
       "1       Specialty Food, Restaurants, Dim Sum, Imported...  \n",
       "2                       Sushi Bars, Restaurants, Japanese  \n",
       "3                           Insurance, Financial Services  \n",
       "4       Plumbing, Shopping, Local Services, Home Servi...  \n",
       "...                                                   ...  \n",
       "192604  Water Purification Services, Water Heater Inst...  \n",
       "192605               Books, Mags, Music & Video, Shopping  \n",
       "192606  Home Services, Contractors, Landscaping, Mason...  \n",
       "192607                             Beauty & Spas, Barbers  \n",
       "192608                             Massage, Beauty & Spas  \n",
       "\n",
       "[192609 rows x 2 columns]"
      ]
     },
     "execution_count": 2,
     "metadata": {},
     "output_type": "execute_result"
    }
   ],
   "source": [
    "businesses = pd.read_csv('~/Downloads/yelp-2019-dataset/business.csv', usecols=['business_id', 'categories'])\n",
    "businesses"
   ]
  },
  {
   "cell_type": "markdown",
   "metadata": {},
   "source": [
    "## 2. Filter / Clean Data"
   ]
  },
  {
   "cell_type": "markdown",
   "metadata": {
    "id": "IYCnWEiDOqGl"
   },
   "source": [
    "Filter businesses with \"Restaurants\" category"
   ]
  },
  {
   "cell_type": "code",
   "execution_count": 3,
   "metadata": {
    "id": "DE73jFkXOQOJ",
    "outputId": "0eff3580-e134-4f14-e754-a7eba7958b74"
   },
   "outputs": [
    {
     "name": "stderr",
     "output_type": "stream",
     "text": [
      "<ipython-input-3-ec6565382ca4>:2: SettingWithCopyWarning: \n",
      "A value is trying to be set on a copy of a slice from a DataFrame.\n",
      "Try using .loc[row_indexer,col_indexer] = value instead\n",
      "\n",
      "See the caveats in the documentation: https://pandas.pydata.org/pandas-docs/stable/user_guide/indexing.html#returning-a-view-versus-a-copy\n",
      "  businesses[\"categories\"] = businesses[\"categories\"].str.split(\", \")\n"
     ]
    },
    {
     "data": {
      "text/html": [
       "<div>\n",
       "<style scoped>\n",
       "    .dataframe tbody tr th:only-of-type {\n",
       "        vertical-align: middle;\n",
       "    }\n",
       "\n",
       "    .dataframe tbody tr th {\n",
       "        vertical-align: top;\n",
       "    }\n",
       "\n",
       "    .dataframe thead th {\n",
       "        text-align: right;\n",
       "    }\n",
       "</style>\n",
       "<table border=\"1\" class=\"dataframe\">\n",
       "  <thead>\n",
       "    <tr style=\"text-align: right;\">\n",
       "      <th></th>\n",
       "      <th>business_id</th>\n",
       "      <th>categories</th>\n",
       "    </tr>\n",
       "  </thead>\n",
       "  <tbody>\n",
       "    <tr>\n",
       "      <th>1</th>\n",
       "      <td>QXAEGFB4oINsVuTFxEYKFQ</td>\n",
       "      <td>[Specialty Food, Restaurants, Dim Sum, Importe...</td>\n",
       "    </tr>\n",
       "    <tr>\n",
       "      <th>2</th>\n",
       "      <td>gnKjwL_1w79qoiV3IC_xQQ</td>\n",
       "      <td>[Sushi Bars, Restaurants, Japanese]</td>\n",
       "    </tr>\n",
       "    <tr>\n",
       "      <th>11</th>\n",
       "      <td>1Dfx3zM-rW4n-31KeC8sJg</td>\n",
       "      <td>[Restaurants, Breakfast &amp; Brunch, Mexican, Tac...</td>\n",
       "    </tr>\n",
       "    <tr>\n",
       "      <th>13</th>\n",
       "      <td>fweCYi8FmbJXHCqLnwuk8w</td>\n",
       "      <td>[Italian, Restaurants, Pizza, Chicken Wings]</td>\n",
       "    </tr>\n",
       "    <tr>\n",
       "      <th>17</th>\n",
       "      <td>PZ-LZzSlhSe9utkQYU8pFg</td>\n",
       "      <td>[Restaurants, Italian]</td>\n",
       "    </tr>\n",
       "    <tr>\n",
       "      <th>...</th>\n",
       "      <td>...</td>\n",
       "      <td>...</td>\n",
       "    </tr>\n",
       "    <tr>\n",
       "      <th>192587</th>\n",
       "      <td>oS0CnUbyv0GUoD3L8_3UPQ</td>\n",
       "      <td>[Restaurants, Thai]</td>\n",
       "    </tr>\n",
       "    <tr>\n",
       "      <th>192589</th>\n",
       "      <td>ghovD5ZTGDQ5Q2U4ERddWw</td>\n",
       "      <td>[Burgers, Restaurants, Fast Food, American (New)]</td>\n",
       "    </tr>\n",
       "    <tr>\n",
       "      <th>192595</th>\n",
       "      <td>h3QErqS3OZgLJ5Tb6-sLyQ</td>\n",
       "      <td>[Restaurants, Soup, Chinese, Caribbean]</td>\n",
       "    </tr>\n",
       "    <tr>\n",
       "      <th>192596</th>\n",
       "      <td>KnafX7T6qSAmSrLhd709vA</td>\n",
       "      <td>[Vietnamese, Soup, Restaurants]</td>\n",
       "    </tr>\n",
       "    <tr>\n",
       "      <th>192603</th>\n",
       "      <td>p1eUTUB_5hf1enoKYBV3DA</td>\n",
       "      <td>[Restaurants, Italian]</td>\n",
       "    </tr>\n",
       "  </tbody>\n",
       "</table>\n",
       "<p>59371 rows × 2 columns</p>\n",
       "</div>"
      ],
      "text/plain": [
       "                   business_id  \\\n",
       "1       QXAEGFB4oINsVuTFxEYKFQ   \n",
       "2       gnKjwL_1w79qoiV3IC_xQQ   \n",
       "11      1Dfx3zM-rW4n-31KeC8sJg   \n",
       "13      fweCYi8FmbJXHCqLnwuk8w   \n",
       "17      PZ-LZzSlhSe9utkQYU8pFg   \n",
       "...                        ...   \n",
       "192587  oS0CnUbyv0GUoD3L8_3UPQ   \n",
       "192589  ghovD5ZTGDQ5Q2U4ERddWw   \n",
       "192595  h3QErqS3OZgLJ5Tb6-sLyQ   \n",
       "192596  KnafX7T6qSAmSrLhd709vA   \n",
       "192603  p1eUTUB_5hf1enoKYBV3DA   \n",
       "\n",
       "                                               categories  \n",
       "1       [Specialty Food, Restaurants, Dim Sum, Importe...  \n",
       "2                     [Sushi Bars, Restaurants, Japanese]  \n",
       "11      [Restaurants, Breakfast & Brunch, Mexican, Tac...  \n",
       "13           [Italian, Restaurants, Pizza, Chicken Wings]  \n",
       "17                                 [Restaurants, Italian]  \n",
       "...                                                   ...  \n",
       "192587                                [Restaurants, Thai]  \n",
       "192589  [Burgers, Restaurants, Fast Food, American (New)]  \n",
       "192595            [Restaurants, Soup, Chinese, Caribbean]  \n",
       "192596                    [Vietnamese, Soup, Restaurants]  \n",
       "192603                             [Restaurants, Italian]  \n",
       "\n",
       "[59371 rows x 2 columns]"
      ]
     },
     "execution_count": 3,
     "metadata": {},
     "output_type": "execute_result"
    }
   ],
   "source": [
    "businesses = businesses[businesses['categories'].notnull()]\n",
    "businesses[\"categories\"] = businesses[\"categories\"].str.split(\", \")\n",
    "businesses = businesses[businesses['categories'].map(lambda categories: 'Restaurants' in categories)]\n",
    "\n",
    "businesses"
   ]
  },
  {
   "cell_type": "markdown",
   "metadata": {
    "id": "p50MGDjdOr57"
   },
   "source": [
    "Filter reviews to only those that were given to Restaurant businesses"
   ]
  },
  {
   "cell_type": "code",
   "execution_count": 4,
   "metadata": {},
   "outputs": [],
   "source": [
    "reviews = reviews.merge(businesses, on='business_id', how='inner')"
   ]
  },
  {
   "cell_type": "markdown",
   "metadata": {},
   "source": [
    "Shuffle the filtered reviews"
   ]
  },
  {
   "cell_type": "code",
   "execution_count": 5,
   "metadata": {
    "id": "E1snZ1KGOQOR",
    "outputId": "e125f155-4ada-4562-8e62-b09b92e884bf"
   },
   "outputs": [],
   "source": [
    "reviews = reviews.sample(frac=1, random_state=42).reset_index(drop=True)"
   ]
  },
  {
   "cell_type": "markdown",
   "metadata": {},
   "source": [
    "Drop reviews without text"
   ]
  },
  {
   "cell_type": "code",
   "execution_count": 6,
   "metadata": {},
   "outputs": [],
   "source": [
    "reviews = reviews.dropna()"
   ]
  },
  {
   "cell_type": "markdown",
   "metadata": {
    "id": "HCog1emiO4Sq"
   },
   "source": [
    "Reviews after filtered"
   ]
  },
  {
   "cell_type": "code",
   "execution_count": 7,
   "metadata": {
    "id": "Wa4C4T3wOQOU",
    "outputId": "bc47d926-b29b-4876-9ba4-1b43912fc9e1"
   },
   "outputs": [
    {
     "data": {
      "text/html": [
       "<div>\n",
       "<style scoped>\n",
       "    .dataframe tbody tr th:only-of-type {\n",
       "        vertical-align: middle;\n",
       "    }\n",
       "\n",
       "    .dataframe tbody tr th {\n",
       "        vertical-align: top;\n",
       "    }\n",
       "\n",
       "    .dataframe thead th {\n",
       "        text-align: right;\n",
       "    }\n",
       "</style>\n",
       "<table border=\"1\" class=\"dataframe\">\n",
       "  <thead>\n",
       "    <tr style=\"text-align: right;\">\n",
       "      <th></th>\n",
       "      <th>business_id</th>\n",
       "      <th>stars</th>\n",
       "      <th>text</th>\n",
       "      <th>categories</th>\n",
       "    </tr>\n",
       "  </thead>\n",
       "  <tbody>\n",
       "    <tr>\n",
       "      <th>0</th>\n",
       "      <td>3uC7Lbc3RgUDTWQlBu4PqQ</td>\n",
       "      <td>5.0</td>\n",
       "      <td>Three words:  Damn good pastries.\\n\\nA few mor...</td>\n",
       "      <td>[Desserts, Food, French, Sandwiches, Bakeries,...</td>\n",
       "    </tr>\n",
       "    <tr>\n",
       "      <th>1</th>\n",
       "      <td>c-NXKTJ0jrrusTPxJAUwvA</td>\n",
       "      <td>1.0</td>\n",
       "      <td>Easily one of the worst Red Robin locations. T...</td>\n",
       "      <td>[American (Traditional), Restaurants, Burgers]</td>\n",
       "    </tr>\n",
       "    <tr>\n",
       "      <th>2</th>\n",
       "      <td>j3csEfGzkwnXATdRoZDT-A</td>\n",
       "      <td>2.0</td>\n",
       "      <td>Maybe I am just spoiled with good Mexican food...</td>\n",
       "      <td>[Mexican, Restaurants]</td>\n",
       "    </tr>\n",
       "    <tr>\n",
       "      <th>3</th>\n",
       "      <td>Q0EZmATxDphzRMszNV2LVg</td>\n",
       "      <td>5.0</td>\n",
       "      <td>This Wildflower is always kept clean and the e...</td>\n",
       "      <td>[Food, American (New), Restaurants, Breakfast ...</td>\n",
       "    </tr>\n",
       "    <tr>\n",
       "      <th>4</th>\n",
       "      <td>25c15dEPrBrWr4tR1r6sTg</td>\n",
       "      <td>5.0</td>\n",
       "      <td>Favorite bibimbap in the valley! They also hav...</td>\n",
       "      <td>[Korean, Japanese, Restaurants]</td>\n",
       "    </tr>\n",
       "    <tr>\n",
       "      <th>...</th>\n",
       "      <td>...</td>\n",
       "      <td>...</td>\n",
       "      <td>...</td>\n",
       "      <td>...</td>\n",
       "    </tr>\n",
       "    <tr>\n",
       "      <th>4201679</th>\n",
       "      <td>GFoJkebYoK2sigk3H8lUlg</td>\n",
       "      <td>5.0</td>\n",
       "      <td>Since the bar has changed ownership, there has...</td>\n",
       "      <td>[Brewpubs, Bars, Barbeque, Food, Pubs, Breweri...</td>\n",
       "    </tr>\n",
       "    <tr>\n",
       "      <th>4201680</th>\n",
       "      <td>Bf2fuqWbHd3L-X69FSMvmg</td>\n",
       "      <td>3.0</td>\n",
       "      <td>Not great. Fillings are pretty bland and is no...</td>\n",
       "      <td>[Restaurants, Mexican]</td>\n",
       "    </tr>\n",
       "    <tr>\n",
       "      <th>4201681</th>\n",
       "      <td>MQXFdfDb1UjrZngnjslmhA</td>\n",
       "      <td>1.0</td>\n",
       "      <td>I honestly can't review the food here, as we d...</td>\n",
       "      <td>[Steakhouses, Restaurants]</td>\n",
       "    </tr>\n",
       "    <tr>\n",
       "      <th>4201682</th>\n",
       "      <td>Hqs4YNST_ZHbshwyi4bnsQ</td>\n",
       "      <td>4.0</td>\n",
       "      <td>Amazing pizza, great quality! From the same fa...</td>\n",
       "      <td>[Restaurants, Pizza, American (Traditional), I...</td>\n",
       "    </tr>\n",
       "    <tr>\n",
       "      <th>4201683</th>\n",
       "      <td>e-cxqDjKEHEcISP2iGcZxg</td>\n",
       "      <td>5.0</td>\n",
       "      <td>Sunday night.  First 70 degree day in weeks an...</td>\n",
       "      <td>[Desserts, Restaurants, Karaoke, Nightlife, Am...</td>\n",
       "    </tr>\n",
       "  </tbody>\n",
       "</table>\n",
       "<p>4201683 rows × 4 columns</p>\n",
       "</div>"
      ],
      "text/plain": [
       "                    business_id  stars  \\\n",
       "0        3uC7Lbc3RgUDTWQlBu4PqQ    5.0   \n",
       "1        c-NXKTJ0jrrusTPxJAUwvA    1.0   \n",
       "2        j3csEfGzkwnXATdRoZDT-A    2.0   \n",
       "3        Q0EZmATxDphzRMszNV2LVg    5.0   \n",
       "4        25c15dEPrBrWr4tR1r6sTg    5.0   \n",
       "...                         ...    ...   \n",
       "4201679  GFoJkebYoK2sigk3H8lUlg    5.0   \n",
       "4201680  Bf2fuqWbHd3L-X69FSMvmg    3.0   \n",
       "4201681  MQXFdfDb1UjrZngnjslmhA    1.0   \n",
       "4201682  Hqs4YNST_ZHbshwyi4bnsQ    4.0   \n",
       "4201683  e-cxqDjKEHEcISP2iGcZxg    5.0   \n",
       "\n",
       "                                                      text  \\\n",
       "0        Three words:  Damn good pastries.\\n\\nA few mor...   \n",
       "1        Easily one of the worst Red Robin locations. T...   \n",
       "2        Maybe I am just spoiled with good Mexican food...   \n",
       "3        This Wildflower is always kept clean and the e...   \n",
       "4        Favorite bibimbap in the valley! They also hav...   \n",
       "...                                                    ...   \n",
       "4201679  Since the bar has changed ownership, there has...   \n",
       "4201680  Not great. Fillings are pretty bland and is no...   \n",
       "4201681  I honestly can't review the food here, as we d...   \n",
       "4201682  Amazing pizza, great quality! From the same fa...   \n",
       "4201683  Sunday night.  First 70 degree day in weeks an...   \n",
       "\n",
       "                                                categories  \n",
       "0        [Desserts, Food, French, Sandwiches, Bakeries,...  \n",
       "1           [American (Traditional), Restaurants, Burgers]  \n",
       "2                                   [Mexican, Restaurants]  \n",
       "3        [Food, American (New), Restaurants, Breakfast ...  \n",
       "4                          [Korean, Japanese, Restaurants]  \n",
       "...                                                    ...  \n",
       "4201679  [Brewpubs, Bars, Barbeque, Food, Pubs, Breweri...  \n",
       "4201680                             [Restaurants, Mexican]  \n",
       "4201681                         [Steakhouses, Restaurants]  \n",
       "4201682  [Restaurants, Pizza, American (Traditional), I...  \n",
       "4201683  [Desserts, Restaurants, Karaoke, Nightlife, Am...  \n",
       "\n",
       "[4201683 rows x 4 columns]"
      ]
     },
     "execution_count": 7,
     "metadata": {},
     "output_type": "execute_result"
    }
   ],
   "source": [
    "reviews"
   ]
  },
  {
   "cell_type": "markdown",
   "metadata": {},
   "source": [
    "Statistics of review star ratings"
   ]
  },
  {
   "cell_type": "code",
   "execution_count": 8,
   "metadata": {},
   "outputs": [
    {
     "data": {
      "text/html": [
       "<div>\n",
       "<style scoped>\n",
       "    .dataframe tbody tr th:only-of-type {\n",
       "        vertical-align: middle;\n",
       "    }\n",
       "\n",
       "    .dataframe tbody tr th {\n",
       "        vertical-align: top;\n",
       "    }\n",
       "\n",
       "    .dataframe thead th {\n",
       "        text-align: right;\n",
       "    }\n",
       "</style>\n",
       "<table border=\"1\" class=\"dataframe\">\n",
       "  <thead>\n",
       "    <tr style=\"text-align: right;\">\n",
       "      <th></th>\n",
       "      <th>count</th>\n",
       "      <th>mean</th>\n",
       "      <th>std</th>\n",
       "      <th>min</th>\n",
       "      <th>25%</th>\n",
       "      <th>50%</th>\n",
       "      <th>75%</th>\n",
       "      <th>max</th>\n",
       "    </tr>\n",
       "  </thead>\n",
       "  <tbody>\n",
       "    <tr>\n",
       "      <th>stars</th>\n",
       "      <td>4201683.0</td>\n",
       "      <td>3.717257</td>\n",
       "      <td>1.374043</td>\n",
       "      <td>1.0</td>\n",
       "      <td>3.0</td>\n",
       "      <td>4.0</td>\n",
       "      <td>5.0</td>\n",
       "      <td>5.0</td>\n",
       "    </tr>\n",
       "  </tbody>\n",
       "</table>\n",
       "</div>"
      ],
      "text/plain": [
       "           count      mean       std  min  25%  50%  75%  max\n",
       "stars  4201683.0  3.717257  1.374043  1.0  3.0  4.0  5.0  5.0"
      ]
     },
     "execution_count": 8,
     "metadata": {},
     "output_type": "execute_result"
    }
   ],
   "source": [
    "reviews.describe().transpose()"
   ]
  },
  {
   "cell_type": "markdown",
   "metadata": {},
   "source": [
    "Distribution of review star ratings in proportion"
   ]
  },
  {
   "cell_type": "code",
   "execution_count": 9,
   "metadata": {
    "scrolled": true
   },
   "outputs": [
    {
     "data": {
      "text/plain": [
       "1.0    0.118640\n",
       "2.0    0.093374\n",
       "3.0    0.133374\n",
       "4.0    0.261310\n",
       "5.0    0.393301\n",
       "Name: stars, dtype: float64"
      ]
     },
     "execution_count": 9,
     "metadata": {},
     "output_type": "execute_result"
    }
   ],
   "source": [
    "reviews.stars.value_counts(normalize=True).sort_index()"
   ]
  },
  {
   "cell_type": "markdown",
   "metadata": {},
   "source": [
    "Distribution of review star ratings in counts"
   ]
  },
  {
   "cell_type": "code",
   "execution_count": 10,
   "metadata": {
    "scrolled": false
   },
   "outputs": [
    {
     "data": {
      "text/plain": [
       "1.0     498489\n",
       "2.0     392330\n",
       "3.0     560397\n",
       "4.0    1097941\n",
       "5.0    1652526\n",
       "Name: stars, dtype: int64"
      ]
     },
     "execution_count": 10,
     "metadata": {},
     "output_type": "execute_result"
    }
   ],
   "source": [
    "reviews.stars.value_counts().sort_index()"
   ]
  },
  {
   "cell_type": "markdown",
   "metadata": {},
   "source": [
    "## Data sampling"
   ]
  },
  {
   "cell_type": "markdown",
   "metadata": {
    "id": "ZUAUNh2FPCmq"
   },
   "source": [
    "Samples 500,000 reviews"
   ]
  },
  {
   "cell_type": "code",
   "execution_count": 11,
   "metadata": {
    "id": "1wQdP6fROQOU",
    "outputId": "2fb65e71-c92f-4369-f379-c585d2023b31"
   },
   "outputs": [
    {
     "data": {
      "text/html": [
       "<div>\n",
       "<style scoped>\n",
       "    .dataframe tbody tr th:only-of-type {\n",
       "        vertical-align: middle;\n",
       "    }\n",
       "\n",
       "    .dataframe tbody tr th {\n",
       "        vertical-align: top;\n",
       "    }\n",
       "\n",
       "    .dataframe thead th {\n",
       "        text-align: right;\n",
       "    }\n",
       "</style>\n",
       "<table border=\"1\" class=\"dataframe\">\n",
       "  <thead>\n",
       "    <tr style=\"text-align: right;\">\n",
       "      <th></th>\n",
       "      <th>business_id</th>\n",
       "      <th>stars</th>\n",
       "      <th>text</th>\n",
       "      <th>categories</th>\n",
       "    </tr>\n",
       "  </thead>\n",
       "  <tbody>\n",
       "    <tr>\n",
       "      <th>0</th>\n",
       "      <td>3uC7Lbc3RgUDTWQlBu4PqQ</td>\n",
       "      <td>5.0</td>\n",
       "      <td>Three words:  Damn good pastries.\\n\\nA few mor...</td>\n",
       "      <td>[Desserts, Food, French, Sandwiches, Bakeries,...</td>\n",
       "    </tr>\n",
       "    <tr>\n",
       "      <th>1</th>\n",
       "      <td>c-NXKTJ0jrrusTPxJAUwvA</td>\n",
       "      <td>1.0</td>\n",
       "      <td>Easily one of the worst Red Robin locations. T...</td>\n",
       "      <td>[American (Traditional), Restaurants, Burgers]</td>\n",
       "    </tr>\n",
       "    <tr>\n",
       "      <th>2</th>\n",
       "      <td>j3csEfGzkwnXATdRoZDT-A</td>\n",
       "      <td>2.0</td>\n",
       "      <td>Maybe I am just spoiled with good Mexican food...</td>\n",
       "      <td>[Mexican, Restaurants]</td>\n",
       "    </tr>\n",
       "    <tr>\n",
       "      <th>3</th>\n",
       "      <td>Q0EZmATxDphzRMszNV2LVg</td>\n",
       "      <td>5.0</td>\n",
       "      <td>This Wildflower is always kept clean and the e...</td>\n",
       "      <td>[Food, American (New), Restaurants, Breakfast ...</td>\n",
       "    </tr>\n",
       "    <tr>\n",
       "      <th>4</th>\n",
       "      <td>25c15dEPrBrWr4tR1r6sTg</td>\n",
       "      <td>5.0</td>\n",
       "      <td>Favorite bibimbap in the valley! They also hav...</td>\n",
       "      <td>[Korean, Japanese, Restaurants]</td>\n",
       "    </tr>\n",
       "    <tr>\n",
       "      <th>...</th>\n",
       "      <td>...</td>\n",
       "      <td>...</td>\n",
       "      <td>...</td>\n",
       "      <td>...</td>\n",
       "    </tr>\n",
       "    <tr>\n",
       "      <th>499996</th>\n",
       "      <td>oov-v0b15bJnqI2qRLrDSg</td>\n",
       "      <td>5.0</td>\n",
       "      <td>New Nak Won is amazing!\\n\\nFirst off, super aw...</td>\n",
       "      <td>[Korean, Restaurants]</td>\n",
       "    </tr>\n",
       "    <tr>\n",
       "      <th>499997</th>\n",
       "      <td>wR71mnXAJMVmgMBrHevndQ</td>\n",
       "      <td>3.0</td>\n",
       "      <td>I came here for lunch last Sunday.  We ordered...</td>\n",
       "      <td>[Asian Fusion, Chinese, Restaurants]</td>\n",
       "    </tr>\n",
       "    <tr>\n",
       "      <th>499998</th>\n",
       "      <td>5MNYCmCtpBboglFmrjU6yw</td>\n",
       "      <td>4.0</td>\n",
       "      <td>We just tried Rkidds for the first time tonigh...</td>\n",
       "      <td>[Pizza, Salad, Restaurants, Italian, Chicken W...</td>\n",
       "    </tr>\n",
       "    <tr>\n",
       "      <th>499999</th>\n",
       "      <td>TOi6KY8b7e1Au-TqC-I7lw</td>\n",
       "      <td>5.0</td>\n",
       "      <td>Yesterday I was served Kobe hot dogs, chipotle...</td>\n",
       "      <td>[Specialty Food, Food, Restaurants, Meat Shops...</td>\n",
       "    </tr>\n",
       "    <tr>\n",
       "      <th>500000</th>\n",
       "      <td>Dc7zk2Vi-55PNAX5KRoFRg</td>\n",
       "      <td>5.0</td>\n",
       "      <td>Best Persian food I have had in a very long ti...</td>\n",
       "      <td>[Bars, Nightlife, Hookah Bars, Persian/Iranian...</td>\n",
       "    </tr>\n",
       "  </tbody>\n",
       "</table>\n",
       "<p>500000 rows × 4 columns</p>\n",
       "</div>"
      ],
      "text/plain": [
       "                   business_id  stars  \\\n",
       "0       3uC7Lbc3RgUDTWQlBu4PqQ    5.0   \n",
       "1       c-NXKTJ0jrrusTPxJAUwvA    1.0   \n",
       "2       j3csEfGzkwnXATdRoZDT-A    2.0   \n",
       "3       Q0EZmATxDphzRMszNV2LVg    5.0   \n",
       "4       25c15dEPrBrWr4tR1r6sTg    5.0   \n",
       "...                        ...    ...   \n",
       "499996  oov-v0b15bJnqI2qRLrDSg    5.0   \n",
       "499997  wR71mnXAJMVmgMBrHevndQ    3.0   \n",
       "499998  5MNYCmCtpBboglFmrjU6yw    4.0   \n",
       "499999  TOi6KY8b7e1Au-TqC-I7lw    5.0   \n",
       "500000  Dc7zk2Vi-55PNAX5KRoFRg    5.0   \n",
       "\n",
       "                                                     text  \\\n",
       "0       Three words:  Damn good pastries.\\n\\nA few mor...   \n",
       "1       Easily one of the worst Red Robin locations. T...   \n",
       "2       Maybe I am just spoiled with good Mexican food...   \n",
       "3       This Wildflower is always kept clean and the e...   \n",
       "4       Favorite bibimbap in the valley! They also hav...   \n",
       "...                                                   ...   \n",
       "499996  New Nak Won is amazing!\\n\\nFirst off, super aw...   \n",
       "499997  I came here for lunch last Sunday.  We ordered...   \n",
       "499998  We just tried Rkidds for the first time tonigh...   \n",
       "499999  Yesterday I was served Kobe hot dogs, chipotle...   \n",
       "500000  Best Persian food I have had in a very long ti...   \n",
       "\n",
       "                                               categories  \n",
       "0       [Desserts, Food, French, Sandwiches, Bakeries,...  \n",
       "1          [American (Traditional), Restaurants, Burgers]  \n",
       "2                                  [Mexican, Restaurants]  \n",
       "3       [Food, American (New), Restaurants, Breakfast ...  \n",
       "4                         [Korean, Japanese, Restaurants]  \n",
       "...                                                   ...  \n",
       "499996                              [Korean, Restaurants]  \n",
       "499997               [Asian Fusion, Chinese, Restaurants]  \n",
       "499998  [Pizza, Salad, Restaurants, Italian, Chicken W...  \n",
       "499999  [Specialty Food, Food, Restaurants, Meat Shops...  \n",
       "500000  [Bars, Nightlife, Hookah Bars, Persian/Iranian...  \n",
       "\n",
       "[500000 rows x 4 columns]"
      ]
     },
     "execution_count": 11,
     "metadata": {},
     "output_type": "execute_result"
    }
   ],
   "source": [
    "reviews = reviews[0:500000]\n",
    "\n",
    "reviews"
   ]
  },
  {
   "cell_type": "markdown",
   "metadata": {},
   "source": [
    "Statistics of review star ratings (sampled)"
   ]
  },
  {
   "cell_type": "code",
   "execution_count": 12,
   "metadata": {},
   "outputs": [
    {
     "data": {
      "text/html": [
       "<div>\n",
       "<style scoped>\n",
       "    .dataframe tbody tr th:only-of-type {\n",
       "        vertical-align: middle;\n",
       "    }\n",
       "\n",
       "    .dataframe tbody tr th {\n",
       "        vertical-align: top;\n",
       "    }\n",
       "\n",
       "    .dataframe thead th {\n",
       "        text-align: right;\n",
       "    }\n",
       "</style>\n",
       "<table border=\"1\" class=\"dataframe\">\n",
       "  <thead>\n",
       "    <tr style=\"text-align: right;\">\n",
       "      <th></th>\n",
       "      <th>count</th>\n",
       "      <th>mean</th>\n",
       "      <th>std</th>\n",
       "      <th>min</th>\n",
       "      <th>25%</th>\n",
       "      <th>50%</th>\n",
       "      <th>75%</th>\n",
       "      <th>max</th>\n",
       "    </tr>\n",
       "  </thead>\n",
       "  <tbody>\n",
       "    <tr>\n",
       "      <th>stars</th>\n",
       "      <td>500000.0</td>\n",
       "      <td>3.7205</td>\n",
       "      <td>1.372392</td>\n",
       "      <td>1.0</td>\n",
       "      <td>3.0</td>\n",
       "      <td>4.0</td>\n",
       "      <td>5.0</td>\n",
       "      <td>5.0</td>\n",
       "    </tr>\n",
       "  </tbody>\n",
       "</table>\n",
       "</div>"
      ],
      "text/plain": [
       "          count    mean       std  min  25%  50%  75%  max\n",
       "stars  500000.0  3.7205  1.372392  1.0  3.0  4.0  5.0  5.0"
      ]
     },
     "execution_count": 12,
     "metadata": {},
     "output_type": "execute_result"
    }
   ],
   "source": [
    "reviews.describe().transpose()"
   ]
  },
  {
   "cell_type": "markdown",
   "metadata": {},
   "source": [
    "Distribution of review star ratings in proportion (sampled)"
   ]
  },
  {
   "cell_type": "code",
   "execution_count": 13,
   "metadata": {
    "scrolled": true
   },
   "outputs": [
    {
     "data": {
      "text/plain": [
       "1.0    0.118050\n",
       "2.0    0.092874\n",
       "3.0    0.133616\n",
       "4.0    0.261446\n",
       "5.0    0.394014\n",
       "Name: stars, dtype: float64"
      ]
     },
     "execution_count": 13,
     "metadata": {},
     "output_type": "execute_result"
    }
   ],
   "source": [
    "reviews.stars.value_counts(normalize=True).sort_index()"
   ]
  },
  {
   "cell_type": "markdown",
   "metadata": {},
   "source": [
    "Distribution of review star ratings in counts (sampled)"
   ]
  },
  {
   "cell_type": "code",
   "execution_count": 14,
   "metadata": {
    "scrolled": false
   },
   "outputs": [
    {
     "data": {
      "text/plain": [
       "1.0     59025\n",
       "2.0     46437\n",
       "3.0     66808\n",
       "4.0    130723\n",
       "5.0    197007\n",
       "Name: stars, dtype: int64"
      ]
     },
     "execution_count": 14,
     "metadata": {},
     "output_type": "execute_result"
    }
   ],
   "source": [
    "reviews.stars.value_counts().sort_index()"
   ]
  },
  {
   "cell_type": "markdown",
   "metadata": {},
   "source": [
    "## Save Data"
   ]
  },
  {
   "cell_type": "code",
   "execution_count": 15,
   "metadata": {
    "id": "SSaF5PiAOQOW"
   },
   "outputs": [],
   "source": [
    "reviews.to_csv('./data/reviews_500k_imba.csv', index=False)"
   ]
  }
 ],
 "metadata": {
  "colab": {
   "collapsed_sections": [],
   "name": "Data-Imba.ipynb",
   "provenance": []
  },
  "kernelspec": {
   "display_name": "Python 3",
   "language": "python",
   "name": "python3"
  },
  "language_info": {
   "codemirror_mode": {
    "name": "ipython",
    "version": 3
   },
   "file_extension": ".py",
   "mimetype": "text/x-python",
   "name": "python",
   "nbconvert_exporter": "python",
   "pygments_lexer": "ipython3",
   "version": "3.8.3"
  }
 },
 "nbformat": 4,
 "nbformat_minor": 1
}
